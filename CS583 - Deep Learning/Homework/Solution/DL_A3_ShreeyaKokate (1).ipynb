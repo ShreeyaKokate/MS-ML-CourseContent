{
  "cells": [
    {
      "cell_type": "markdown",
      "source": [
        "# DL ASSIGNMENT 3 \n",
        "\n",
        "Shreeya Kokate \n",
        "\n",
        "CWID: 20005256"
      ],
      "metadata": {
        "id": "SPIXC7M5oUaL"
      }
    },
    {
      "cell_type": "code",
      "source": [
        "import matplotlib.pyplot as plt\n",
        "import seaborn as sns\n",
        "\n",
        "import tensorflow as tf\n",
        "from tensorflow.keras import utils\n",
        "from tensorflow.keras.datasets import mnist \n",
        "from tensorflow.keras.initializers import RandomNormal\n",
        "from tensorflow.keras.models import Sequential \n",
        "from tensorflow.keras.layers import Dense, Activation,Dropout\n",
        "from tensorflow.keras import regularizers\n",
        "\n",
        "import keras\n",
        "from keras.callbacks import EarlyStopping\n",
        "from keras.datasets import mnist\n",
        "from keras.models import Sequential\n",
        "from keras.layers import Dense, Dropout, Flatten\n",
        "from keras.layers import Conv2D, MaxPooling2D\n",
        "from keras import backend as K\n",
        "\n",
        "from __future__ import print_function"
      ],
      "metadata": {
        "id": "HN0YU5n2Zf-B"
      },
      "execution_count": null,
      "outputs": []
    },
    {
      "cell_type": "markdown",
      "source": [
        "## Load Dataset"
      ],
      "metadata": {
        "id": "gEFBHoF6serk"
      }
    },
    {
      "cell_type": "code",
      "source": [
        "(X_train, y_train), (X_test, y_test) = mnist.load_data()"
      ],
      "metadata": {
        "id": "sdVfX6uCno0E"
      },
      "execution_count": null,
      "outputs": []
    },
    {
      "cell_type": "code",
      "source": [
        "X_train = X_train.reshape(X_train.shape[0], X_train.shape[1]*X_train.shape[2]) \n",
        "X_train = X_train/255"
      ],
      "metadata": {
        "id": "SZaCGi0ksl-2"
      },
      "execution_count": null,
      "outputs": []
    },
    {
      "cell_type": "code",
      "source": [
        "X_test = X_test.reshape(X_test.shape[0], X_test.shape[1]*X_test.shape[2]) \n",
        "X_test = X_test/255"
      ],
      "metadata": {
        "id": "oEnLTicbnsy9"
      },
      "execution_count": null,
      "outputs": []
    },
    {
      "cell_type": "code",
      "source": [
        "Y_train = utils.to_categorical(y_train, 10) \n",
        "Y_test = utils.to_categorical(y_test, 10)\n",
        "\n",
        "print(\"Converting output into a vector : \", Y_train[0])"
      ],
      "metadata": {
        "id": "KZqE_dIznssv"
      },
      "execution_count": null,
      "outputs": []
    },
    {
      "cell_type": "markdown",
      "source": [
        "<h2> Build a three-layer feedforward network </h2>"
      ],
      "metadata": {
        "id": "LLUdsyFinzr5"
      }
    },
    {
      "cell_type": "code",
      "source": [
        "output_dim = 10\n",
        "input_dim = X_train.shape[1]\n",
        "batch_size = 512 \n",
        "nb_epoch = 25"
      ],
      "metadata": {
        "id": "oo26dzdfnsqH"
      },
      "execution_count": null,
      "outputs": []
    },
    {
      "cell_type": "code",
      "source": [
        "model1 = Sequential()\n",
        "model1.add(Dense(500, activation ='sigmoid', input_shape = (input_dim, )))\n",
        "model1.add(Dense(500, activation ='sigmoid'))\n",
        "model1.add(Dense(output_dim, activation ='softmax'))\n",
        "model1.summary()"
      ],
      "metadata": {
        "id": "EmsYX8INn5Ef"
      },
      "execution_count": null,
      "outputs": []
    },
    {
      "cell_type": "code",
      "source": [
        "model1.compile(optimizer ='sgd', loss ='categorical_crossentropy', metrics = ['accuracy'])\n",
        "history1 = model1.fit(X_train, Y_train, batch_size = batch_size, epochs = nb_epoch, verbose = 1, validation_data = (X_test, Y_test)) "
      ],
      "metadata": {
        "id": "IQrgIxDxn5A_"
      },
      "execution_count": null,
      "outputs": []
    },
    {
      "cell_type": "markdown",
      "source": [
        "<h2> Regularizer </h2>"
      ],
      "metadata": {
        "id": "YwiE8ytXn-MF"
      }
    },
    {
      "cell_type": "code",
      "source": [
        "model2 = Sequential()\n",
        "model2.add(Dense(500, kernel_regularizer = regularizers.l2(1e-4), bias_regularizer = regularizers.l2(1e-4), activation = 'sigmoid', input_shape = (input_dim,)))\n",
        "model2.add(Dense(500, activation = 'sigmoid',kernel_regularizer = regularizers.l2(1e-4), bias_regularizer = regularizers.l2(1e-4)))\n",
        "model2.add(Dense(output_dim, activation ='softmax'))\n",
        "model2.summary()"
      ],
      "metadata": {
        "id": "dCKT66ncn4-7"
      },
      "execution_count": null,
      "outputs": []
    },
    {
      "cell_type": "code",
      "source": [
        "es2 = EarlyStopping(monitor='val_loss', mode='min', verbose=1)\n",
        "model2.compile(optimizer = 'sgd', loss = 'categorical_crossentropy', metrics = ['accuracy'])\n",
        "history2 = model2.fit(X_train, Y_train, batch_size = batch_size, epochs = nb_epoch, verbose = 1, validation_data = (X_test, Y_test), callbacks = [es2]) "
      ],
      "metadata": {
        "id": "JVU-DFgLn48c"
      },
      "execution_count": null,
      "outputs": []
    },
    {
      "cell_type": "markdown",
      "source": [
        "<h2> Dropout </h2>"
      ],
      "metadata": {
        "id": "DD_UYWSaoGSC"
      }
    },
    {
      "cell_type": "code",
      "source": [
        "model3 = Sequential()\n",
        "model3.add(Dense(128, activation = 'sigmoid', input_shape = (input_dim,), kernel_initializer = RandomNormal(mean = 0.0, stddev = 0.039, seed = None)))\n",
        "model3.add(Dropout(0.5))\n",
        "model3.add(Dense(128, activation = 'sigmoid', kernel_initializer = RandomNormal(mean = 0.0, stddev = 0.55, seed = None)) )\n",
        "model3.add(Dropout(0.5))\n",
        "model3.add(Dense(output_dim, activation='softmax'))\n",
        "model3_drop.summary()"
      ],
      "metadata": {
        "id": "TOojkUlWn454"
      },
      "execution_count": null,
      "outputs": []
    },
    {
      "cell_type": "code",
      "source": [
        "es3 = EarlyStopping(monitor = 'val_loss', mode = 'min', verbose = 1)\n",
        "model3_drop.compile(optimizer = 'adam', loss = 'categorical_crossentropy', metrics = ['accuracy'])\n",
        "history3 = model3_drop.fit(X_train, Y_train, batch_size = batch_size, epochs = nb_epoch, verbose = 1, validation_data = (X_test, Y_test), callbacks = [es3])"
      ],
      "metadata": {
        "id": "ZQgTOMYqn43R"
      },
      "execution_count": null,
      "outputs": []
    },
    {
      "cell_type": "markdown",
      "source": [
        "## CNN Network"
      ],
      "metadata": {
        "id": "NOBunodCoOJS"
      }
    },
    {
      "cell_type": "code",
      "execution_count": null,
      "metadata": {
        "id": "H9EU0e8yzFOm"
      },
      "outputs": [],
      "source": [
        "batch_size = 128\n",
        "num_classes = 10\n",
        "epochs = 12\n",
        "\n",
        "# image dimensions\n",
        "img_rows, img_cols = 28, 28\n",
        "\n",
        "(x_train, y_train), (x_test, y_test) = mnist.load_data()\n",
        "\n",
        "if K.image_data_format() == 'channels_first':\n",
        "    x_train = x_train.reshape(x_train.shape[0], 1, img_rows, img_cols)\n",
        "    x_test = x_test.reshape(x_test.shape[0], 1, img_rows, img_cols)\n",
        "    input_shape = (1, img_rows, img_cols)\n",
        "else:\n",
        "    x_train = x_train.reshape(x_train.shape[0], img_rows, img_cols, 1)\n",
        "    x_test = x_test.reshape(x_test.shape[0], img_rows, img_cols, 1)\n",
        "    input_shape = (img_rows, img_cols, 1)\n",
        "\n",
        "x_train = x_train.astype('float32')\n",
        "x_test = x_test.astype('float32')\n",
        "x_train /= 255\n",
        "x_test /= 255\n",
        "print('x_train shape:', x_train.shape)\n",
        "print(x_train.shape[0], 'train samples')\n",
        "print(x_test.shape[0], 'test samples')\n",
        "\n",
        "# convert class vectors to binary class matrices\n",
        "y_train = keras.utils.to_categorical(y_train, num_classes)\n",
        "y_test = keras.utils.to_categorical(y_test, num_classes)\n",
        "\n",
        "model4 = Sequential()\n",
        "model4.add(Conv2D(32, kernel_size = (3, 3),\n",
        "                 activation = 'relu',\n",
        "                 input_shape = input_shape))\n",
        "model4.add(Conv2D(64, (3, 3), activation = 'relu'))\n",
        "model4.add(MaxPooling2D(pool_size = (2, 2)))\n",
        "model4.add(Dropout(0.25))\n",
        "model4.add(Flatten())\n",
        "model4.add(Dense(128, activation = 'relu'))\n",
        "model4.add(Dropout(0.5))\n",
        "model4.add(Dense(num_classes, activation = 'softmax'))\n",
        "\n",
        "model4.compile(loss = keras.losses.categorical_crossentropy,\n",
        "              optimizer = keras.optimizers.Adadelta(),\n",
        "              metrics = ['accuracy'])\n",
        "\n",
        "model4.fit(x_train, y_train,\n",
        "          batch_size = batch_size,\n",
        "          epochs = epochs,\n",
        "          verbose = 1,\n",
        "          validation_data = (x_test, y_test))\n",
        "score = model4.evaluate(x_test, y_test, verbose = 0)"
      ]
    },
    {
      "cell_type": "code",
      "source": [
        "print('Test loss:', score[0])\n",
        "print('Test accuracy:', score[1])"
      ],
      "metadata": {
        "id": "ivv-9UEfuyh0"
      },
      "execution_count": null,
      "outputs": []
    }
  ],
  "metadata": {
    "colab": {
      "collapsed_sections": [],
      "name": "DL_A3_ShreeyaKokate.ipynb",
      "provenance": [],
      "private_outputs": true
    },
    "kernelspec": {
      "display_name": "Python 3",
      "language": "python",
      "name": "python3"
    },
    "language_info": {
      "codemirror_mode": {
        "name": "ipython",
        "version": 3
      },
      "file_extension": ".py",
      "mimetype": "text/x-python",
      "name": "python",
      "nbconvert_exporter": "python",
      "pygments_lexer": "ipython3",
      "version": "3.8.8"
    }
  },
  "nbformat": 4,
  "nbformat_minor": 0
}